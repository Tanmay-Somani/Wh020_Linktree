{
  "cells": [
    {
      "cell_type": "code",
      "execution_count": null,
      "metadata": {
        "id": "qxi_UMABE_rL"
      },
      "outputs": [],
      "source": []
    },
    {
      "cell_type": "markdown",
      "metadata": {
        "id": "BT8EtTnLFdxp"
      },
      "source": [
        "#book recommender system using collaborative clustering\n"
      ]
    },
    {
      "cell_type": "code",
      "execution_count": 1,
      "metadata": {
        "id": "N1QumxF2Fkol"
      },
      "outputs": [],
      "source": [
        "import pandas as pd\n",
        "import numpy as np\n",
        "import matplotlib.pyplot as plt\n",
        "import seaborn as sns\n",
        "import csv"
      ]
    },
    {
      "cell_type": "code",
      "execution_count": 2,
      "metadata": {
        "colab": {
          "base_uri": "https://localhost:8080/"
        },
        "id": "01_CleRxFupl",
        "outputId": "9889fd29-55f6-48a9-a365-c315897cab40"
      },
      "outputs": [
        {
          "name": "stderr",
          "output_type": "stream",
          "text": [
            "C:\\Users\\Tanmay Somani\\AppData\\Local\\Temp\\ipykernel_17276\\3921296444.py:1: FutureWarning: The error_bad_lines argument has been deprecated and will be removed in a future version. Use on_bad_lines in the future.\n",
            "\n",
            "\n",
            "  books=pd.read_csv(\"BX-Books.csv\",sep=';',encoding='latin-1',error_bad_lines=False)\n",
            "Skipping line 6452: expected 8 fields, saw 9\n",
            "Skipping line 43667: expected 8 fields, saw 10\n",
            "Skipping line 51751: expected 8 fields, saw 9\n",
            "\n",
            "Skipping line 92038: expected 8 fields, saw 9\n",
            "Skipping line 104319: expected 8 fields, saw 9\n",
            "Skipping line 121768: expected 8 fields, saw 9\n",
            "\n",
            "Skipping line 144058: expected 8 fields, saw 9\n",
            "Skipping line 150789: expected 8 fields, saw 9\n",
            "Skipping line 157128: expected 8 fields, saw 9\n",
            "Skipping line 180189: expected 8 fields, saw 9\n",
            "Skipping line 185738: expected 8 fields, saw 9\n",
            "\n",
            "Skipping line 209388: expected 8 fields, saw 9\n",
            "Skipping line 220626: expected 8 fields, saw 9\n",
            "Skipping line 227933: expected 8 fields, saw 11\n",
            "Skipping line 228957: expected 8 fields, saw 10\n",
            "Skipping line 245933: expected 8 fields, saw 9\n",
            "Skipping line 251296: expected 8 fields, saw 9\n",
            "Skipping line 259941: expected 8 fields, saw 9\n",
            "Skipping line 261529: expected 8 fields, saw 9\n",
            "\n",
            "C:\\Users\\Tanmay Somani\\AppData\\Local\\Temp\\ipykernel_17276\\3921296444.py:1: DtypeWarning: Columns (3) have mixed types. Specify dtype option on import or set low_memory=False.\n",
            "  books=pd.read_csv(\"BX-Books.csv\",sep=';',encoding='latin-1',error_bad_lines=False)\n"
          ]
        }
      ],
      "source": [
        "books=pd.read_csv(\"BX-Books.csv\",sep=';',encoding='latin-1',error_bad_lines=False)"
      ]
    },
    {
      "cell_type": "code",
      "execution_count": 3,
      "metadata": {
        "id": "u9Xdm5HPGE_J"
      },
      "outputs": [],
      "source": [
        "books=books[['ISBN','Book-Title', 'Book-Author', 'Year-Of-Publication', 'Publisher']]"
      ]
    },
    {
      "cell_type": "code",
      "execution_count": 4,
      "metadata": {
        "id": "Y8YxkFV8GexM"
      },
      "outputs": [],
      "source": [
        "books.rename(columns={\n",
        "    \"Book-Title\":\"title\",\n",
        "    \"Books-Author\":\"author\",\n",
        "    \"Year-Of-Publication\":\"year\",\n",
        "    \"Image-URL-L\":\"img_url\"\n",
        "},inplace=True)"
      ]
    },
    {
      "cell_type": "code",
      "execution_count": 5,
      "metadata": {
        "colab": {
          "base_uri": "https://localhost:8080/"
        },
        "id": "yyV9WpJ1Grlx",
        "outputId": "5de30e71-255b-477f-8e8d-582bb7015e2f"
      },
      "outputs": [
        {
          "name": "stderr",
          "output_type": "stream",
          "text": [
            "C:\\Users\\Tanmay Somani\\AppData\\Local\\Temp\\ipykernel_17276\\5631173.py:1: FutureWarning: The error_bad_lines argument has been deprecated and will be removed in a future version. Use on_bad_lines in the future.\n",
            "\n",
            "\n",
            "  users=pd.read_csv(\"BX-Users.csv\",sep=';',error_bad_lines=False ,encoding='latin-1')\n"
          ]
        }
      ],
      "source": [
        "users=pd.read_csv(\"BX-Users.csv\",sep=';',error_bad_lines=False ,encoding='latin-1') "
      ]
    },
    {
      "cell_type": "code",
      "execution_count": 6,
      "metadata": {
        "colab": {
          "base_uri": "https://localhost:8080/"
        },
        "id": "Lkcfz_3lIHvW",
        "outputId": "657fd2b3-37d9-434c-fe3e-7310e70b59d1"
      },
      "outputs": [
        {
          "name": "stderr",
          "output_type": "stream",
          "text": [
            "C:\\Users\\Tanmay Somani\\AppData\\Local\\Temp\\ipykernel_17276\\3966382842.py:1: FutureWarning: The error_bad_lines argument has been deprecated and will be removed in a future version. Use on_bad_lines in the future.\n",
            "\n",
            "\n",
            "  ratings=pd.read_csv(\"BX-Book-Ratings.csv\",sep=';',error_bad_lines=False ,encoding='latin-1')\n"
          ]
        }
      ],
      "source": [
        "ratings=pd.read_csv(\"BX-Book-Ratings.csv\",sep=';',error_bad_lines=False ,encoding='latin-1') "
      ]
    },
    {
      "cell_type": "markdown",
      "metadata": {
        "id": "mY4AZRUeIe-m"
      },
      "source": [
        "In collaborative system it is important for a user to give you ratings."
      ]
    },
    {
      "cell_type": "code",
      "execution_count": 7,
      "metadata": {
        "id": "ylk1Z7Q-IYnW"
      },
      "outputs": [],
      "source": [
        "ratings.rename(columns={\"User-ID\":\"user_id\",\"Book-Rating\":\"rating\"},inplace=True)"
      ]
    },
    {
      "cell_type": "code",
      "execution_count": 8,
      "metadata": {
        "id": "C9RBSjePJMqA"
      },
      "outputs": [],
      "source": [
        "x=ratings[\"user_id\"].value_counts()>200"
      ]
    },
    {
      "cell_type": "code",
      "execution_count": 9,
      "metadata": {
        "id": "raO8vnHxJ6Vl"
      },
      "outputs": [],
      "source": [
        "y=x[x].index"
      ]
    },
    {
      "cell_type": "code",
      "execution_count": 10,
      "metadata": {
        "id": "4kBHydvVPeVO"
      },
      "outputs": [],
      "source": [
        "ratings=ratings[ratings['user_id'].isin(y)]"
      ]
    },
    {
      "cell_type": "code",
      "execution_count": 11,
      "metadata": {
        "id": "g60PajkrKIqd"
      },
      "outputs": [],
      "source": [
        "ratings_with_books=ratings.merge(books,on=\"ISBN\")"
      ]
    },
    {
      "cell_type": "code",
      "execution_count": 12,
      "metadata": {
        "id": "feFf4EUrKZh_"
      },
      "outputs": [],
      "source": [
        "num_rating=ratings_with_books.groupby('title')['rating'].count().reset_index()"
      ]
    },
    {
      "cell_type": "code",
      "execution_count": 13,
      "metadata": {
        "id": "RNmWN2aeK1Zw"
      },
      "outputs": [],
      "source": [
        "num_rating.rename(columns={\"rating\":\"num_of_rating\"},inplace=True)"
      ]
    },
    {
      "cell_type": "code",
      "execution_count": 14,
      "metadata": {
        "id": "aRVnTo7JLmQV"
      },
      "outputs": [],
      "source": [
        "final_rating=ratings_with_books.merge(num_rating,on ='title')"
      ]
    },
    {
      "cell_type": "code",
      "execution_count": 15,
      "metadata": {
        "id": "VLzFwK1DL1J_"
      },
      "outputs": [],
      "source": [
        "final_rating=final_rating[final_rating[\"num_of_rating\"]>=50]"
      ]
    },
    {
      "cell_type": "code",
      "execution_count": 16,
      "metadata": {
        "colab": {
          "base_uri": "https://localhost:8080/",
          "height": 363
        },
        "id": "GfvCpR0wR9TM",
        "outputId": "6a2ab2c5-64ab-4bb8-9898-527eeb80daa6"
      },
      "outputs": [
        {
          "data": {
            "text/html": [
              "<div>\n",
              "<style scoped>\n",
              "    .dataframe tbody tr th:only-of-type {\n",
              "        vertical-align: middle;\n",
              "    }\n",
              "\n",
              "    .dataframe tbody tr th {\n",
              "        vertical-align: top;\n",
              "    }\n",
              "\n",
              "    .dataframe thead th {\n",
              "        text-align: right;\n",
              "    }\n",
              "</style>\n",
              "<table border=\"1\" class=\"dataframe\">\n",
              "  <thead>\n",
              "    <tr style=\"text-align: right;\">\n",
              "      <th></th>\n",
              "      <th>user_id</th>\n",
              "      <th>ISBN</th>\n",
              "      <th>rating</th>\n",
              "      <th>title</th>\n",
              "      <th>Book-Author</th>\n",
              "      <th>year</th>\n",
              "      <th>Publisher</th>\n",
              "      <th>num_of_rating</th>\n",
              "    </tr>\n",
              "  </thead>\n",
              "  <tbody>\n",
              "    <tr>\n",
              "      <th>110023</th>\n",
              "      <td>246311</td>\n",
              "      <td>0452269571</td>\n",
              "      <td>0</td>\n",
              "      <td>Bastard Out of Carolina</td>\n",
              "      <td>Dorothy Allison</td>\n",
              "      <td>1993</td>\n",
              "      <td>Plume Books</td>\n",
              "      <td>62</td>\n",
              "    </tr>\n",
              "    <tr>\n",
              "      <th>7719</th>\n",
              "      <td>15408</td>\n",
              "      <td>0440241073</td>\n",
              "      <td>0</td>\n",
              "      <td>The Summons</td>\n",
              "      <td>John Grisham</td>\n",
              "      <td>2002</td>\n",
              "      <td>Dell Publishing Company</td>\n",
              "      <td>171</td>\n",
              "    </tr>\n",
              "    <tr>\n",
              "      <th>82228</th>\n",
              "      <td>171118</td>\n",
              "      <td>0553381342</td>\n",
              "      <td>0</td>\n",
              "      <td>The Bonfire of the Vanities</td>\n",
              "      <td>TOM WOLFE</td>\n",
              "      <td>2001</td>\n",
              "      <td>Bantam</td>\n",
              "      <td>92</td>\n",
              "    </tr>\n",
              "    <tr>\n",
              "      <th>39561</th>\n",
              "      <td>49109</td>\n",
              "      <td>0451156609</td>\n",
              "      <td>0</td>\n",
              "      <td>The Tommyknockers</td>\n",
              "      <td>Stephen King</td>\n",
              "      <td>1994</td>\n",
              "      <td>Signet Book</td>\n",
              "      <td>98</td>\n",
              "    </tr>\n",
              "    <tr>\n",
              "      <th>60279</th>\n",
              "      <td>53174</td>\n",
              "      <td>0316690619</td>\n",
              "      <td>2</td>\n",
              "      <td>Cradle and All</td>\n",
              "      <td>James Patterson</td>\n",
              "      <td>2000</td>\n",
              "      <td>Little Brown and Company</td>\n",
              "      <td>109</td>\n",
              "    </tr>\n",
              "    <tr>\n",
              "      <th>125681</th>\n",
              "      <td>11601</td>\n",
              "      <td>0425162443</td>\n",
              "      <td>0</td>\n",
              "      <td>The Rapture of Canaan</td>\n",
              "      <td>Sheri Reynolds</td>\n",
              "      <td>1997</td>\n",
              "      <td>Berkley Publishing Group</td>\n",
              "      <td>87</td>\n",
              "    </tr>\n",
              "    <tr>\n",
              "      <th>91992</th>\n",
              "      <td>254465</td>\n",
              "      <td>0451203895</td>\n",
              "      <td>0</td>\n",
              "      <td>4 Blondes</td>\n",
              "      <td>Candace Bushnell</td>\n",
              "      <td>2002</td>\n",
              "      <td>Signet Book</td>\n",
              "      <td>71</td>\n",
              "    </tr>\n",
              "    <tr>\n",
              "      <th>62105</th>\n",
              "      <td>141902</td>\n",
              "      <td>0679429220</td>\n",
              "      <td>0</td>\n",
              "      <td>Midnight in the Garden of Good and Evil: A Sav...</td>\n",
              "      <td>John Berendt</td>\n",
              "      <td>1994</td>\n",
              "      <td>Random House</td>\n",
              "      <td>89</td>\n",
              "    </tr>\n",
              "    <tr>\n",
              "      <th>133168</th>\n",
              "      <td>52584</td>\n",
              "      <td>0425132048</td>\n",
              "      <td>0</td>\n",
              "      <td>Eyes of Prey</td>\n",
              "      <td>John Sandford</td>\n",
              "      <td>2004</td>\n",
              "      <td>Berkley Publishing Group</td>\n",
              "      <td>50</td>\n",
              "    </tr>\n",
              "    <tr>\n",
              "      <th>4454</th>\n",
              "      <td>6543</td>\n",
              "      <td>0385504209</td>\n",
              "      <td>0</td>\n",
              "      <td>The Da Vinci Code</td>\n",
              "      <td>Dan Brown</td>\n",
              "      <td>2003</td>\n",
              "      <td>Doubleday</td>\n",
              "      <td>224</td>\n",
              "    </tr>\n",
              "  </tbody>\n",
              "</table>\n",
              "</div>"
            ],
            "text/plain": [
              "        user_id        ISBN  rating  \\\n",
              "110023   246311  0452269571       0   \n",
              "7719      15408  0440241073       0   \n",
              "82228    171118  0553381342       0   \n",
              "39561     49109  0451156609       0   \n",
              "60279     53174  0316690619       2   \n",
              "125681    11601  0425162443       0   \n",
              "91992    254465  0451203895       0   \n",
              "62105    141902  0679429220       0   \n",
              "133168    52584  0425132048       0   \n",
              "4454       6543  0385504209       0   \n",
              "\n",
              "                                                    title       Book-Author  \\\n",
              "110023                            Bastard Out of Carolina   Dorothy Allison   \n",
              "7719                                          The Summons      John Grisham   \n",
              "82228                         The Bonfire of the Vanities         TOM WOLFE   \n",
              "39561                                   The Tommyknockers      Stephen King   \n",
              "60279                                      Cradle and All   James Patterson   \n",
              "125681                              The Rapture of Canaan    Sheri Reynolds   \n",
              "91992                                           4 Blondes  Candace Bushnell   \n",
              "62105   Midnight in the Garden of Good and Evil: A Sav...      John Berendt   \n",
              "133168                                       Eyes of Prey     John Sandford   \n",
              "4454                                    The Da Vinci Code         Dan Brown   \n",
              "\n",
              "        year                 Publisher  num_of_rating  \n",
              "110023  1993               Plume Books             62  \n",
              "7719    2002   Dell Publishing Company            171  \n",
              "82228   2001                    Bantam             92  \n",
              "39561   1994               Signet Book             98  \n",
              "60279   2000  Little Brown and Company            109  \n",
              "125681  1997  Berkley Publishing Group             87  \n",
              "91992   2002               Signet Book             71  \n",
              "62105   1994              Random House             89  \n",
              "133168  2004  Berkley Publishing Group             50  \n",
              "4454    2003                 Doubleday            224  "
            ]
          },
          "execution_count": 16,
          "metadata": {},
          "output_type": "execute_result"
        }
      ],
      "source": [
        "final_rating.sample(10)"
      ]
    },
    {
      "cell_type": "code",
      "execution_count": 17,
      "metadata": {
        "id": "qOl9H8vnSIWa"
      },
      "outputs": [],
      "source": [
        "final_rating.drop_duplicates(['user_id','title'],inplace=True)"
      ]
    },
    {
      "cell_type": "markdown",
      "metadata": {
        "id": "xsbrj4dYUb3m"
      },
      "source": []
    },
    {
      "cell_type": "code",
      "execution_count": 18,
      "metadata": {
        "id": "zqphtonnTGhf"
      },
      "outputs": [],
      "source": [
        "book_pivot=final_rating.pivot_table(columns='user_id',index='title',values='rating')"
      ]
    },
    {
      "cell_type": "code",
      "execution_count": 19,
      "metadata": {
        "id": "fsD26vyiUsK5"
      },
      "outputs": [],
      "source": [
        "book_pivot.fillna(0,inplace=True)"
      ]
    },
    {
      "cell_type": "code",
      "execution_count": 20,
      "metadata": {
        "id": "vA5wmmyEVMTw"
      },
      "outputs": [],
      "source": [
        "from scipy.sparse import csr_matrix"
      ]
    },
    {
      "cell_type": "code",
      "execution_count": 21,
      "metadata": {
        "id": "Dj6V3d6mWBrk"
      },
      "outputs": [],
      "source": [
        "book_sparse=csr_matrix(book_pivot)"
      ]
    },
    {
      "cell_type": "code",
      "execution_count": 22,
      "metadata": {
        "id": "AikcoTesWJOJ"
      },
      "outputs": [],
      "source": [
        "from sklearn.neighbors import NearestNeighbors"
      ]
    },
    {
      "cell_type": "code",
      "execution_count": 23,
      "metadata": {
        "id": "qXrqXSa-Wuyc"
      },
      "outputs": [],
      "source": [
        "model=NearestNeighbors(algorithm='brute')\n"
      ]
    },
    {
      "cell_type": "code",
      "execution_count": 24,
      "metadata": {
        "colab": {
          "base_uri": "https://localhost:8080/",
          "height": 75
        },
        "id": "9Ye5m3kNhRm-",
        "outputId": "c3e22bf6-34e1-4a75-a7fe-9db1a27d9722"
      },
      "outputs": [
        {
          "data": {
            "text/html": [
              "<style>#sk-container-id-1 {color: black;background-color: white;}#sk-container-id-1 pre{padding: 0;}#sk-container-id-1 div.sk-toggleable {background-color: white;}#sk-container-id-1 label.sk-toggleable__label {cursor: pointer;display: block;width: 100%;margin-bottom: 0;padding: 0.3em;box-sizing: border-box;text-align: center;}#sk-container-id-1 label.sk-toggleable__label-arrow:before {content: \"▸\";float: left;margin-right: 0.25em;color: #696969;}#sk-container-id-1 label.sk-toggleable__label-arrow:hover:before {color: black;}#sk-container-id-1 div.sk-estimator:hover label.sk-toggleable__label-arrow:before {color: black;}#sk-container-id-1 div.sk-toggleable__content {max-height: 0;max-width: 0;overflow: hidden;text-align: left;background-color: #f0f8ff;}#sk-container-id-1 div.sk-toggleable__content pre {margin: 0.2em;color: black;border-radius: 0.25em;background-color: #f0f8ff;}#sk-container-id-1 input.sk-toggleable__control:checked~div.sk-toggleable__content {max-height: 200px;max-width: 100%;overflow: auto;}#sk-container-id-1 input.sk-toggleable__control:checked~label.sk-toggleable__label-arrow:before {content: \"▾\";}#sk-container-id-1 div.sk-estimator input.sk-toggleable__control:checked~label.sk-toggleable__label {background-color: #d4ebff;}#sk-container-id-1 div.sk-label input.sk-toggleable__control:checked~label.sk-toggleable__label {background-color: #d4ebff;}#sk-container-id-1 input.sk-hidden--visually {border: 0;clip: rect(1px 1px 1px 1px);clip: rect(1px, 1px, 1px, 1px);height: 1px;margin: -1px;overflow: hidden;padding: 0;position: absolute;width: 1px;}#sk-container-id-1 div.sk-estimator {font-family: monospace;background-color: #f0f8ff;border: 1px dotted black;border-radius: 0.25em;box-sizing: border-box;margin-bottom: 0.5em;}#sk-container-id-1 div.sk-estimator:hover {background-color: #d4ebff;}#sk-container-id-1 div.sk-parallel-item::after {content: \"\";width: 100%;border-bottom: 1px solid gray;flex-grow: 1;}#sk-container-id-1 div.sk-label:hover label.sk-toggleable__label {background-color: #d4ebff;}#sk-container-id-1 div.sk-serial::before {content: \"\";position: absolute;border-left: 1px solid gray;box-sizing: border-box;top: 0;bottom: 0;left: 50%;z-index: 0;}#sk-container-id-1 div.sk-serial {display: flex;flex-direction: column;align-items: center;background-color: white;padding-right: 0.2em;padding-left: 0.2em;position: relative;}#sk-container-id-1 div.sk-item {position: relative;z-index: 1;}#sk-container-id-1 div.sk-parallel {display: flex;align-items: stretch;justify-content: center;background-color: white;position: relative;}#sk-container-id-1 div.sk-item::before, #sk-container-id-1 div.sk-parallel-item::before {content: \"\";position: absolute;border-left: 1px solid gray;box-sizing: border-box;top: 0;bottom: 0;left: 50%;z-index: -1;}#sk-container-id-1 div.sk-parallel-item {display: flex;flex-direction: column;z-index: 1;position: relative;background-color: white;}#sk-container-id-1 div.sk-parallel-item:first-child::after {align-self: flex-end;width: 50%;}#sk-container-id-1 div.sk-parallel-item:last-child::after {align-self: flex-start;width: 50%;}#sk-container-id-1 div.sk-parallel-item:only-child::after {width: 0;}#sk-container-id-1 div.sk-dashed-wrapped {border: 1px dashed gray;margin: 0 0.4em 0.5em 0.4em;box-sizing: border-box;padding-bottom: 0.4em;background-color: white;}#sk-container-id-1 div.sk-label label {font-family: monospace;font-weight: bold;display: inline-block;line-height: 1.2em;}#sk-container-id-1 div.sk-label-container {text-align: center;}#sk-container-id-1 div.sk-container {/* jupyter's `normalize.less` sets `[hidden] { display: none; }` but bootstrap.min.css set `[hidden] { display: none !important; }` so we also need the `!important` here to be able to override the default hidden behavior on the sphinx rendered scikit-learn.org. See: https://github.com/scikit-learn/scikit-learn/issues/21755 */display: inline-block !important;position: relative;}#sk-container-id-1 div.sk-text-repr-fallback {display: none;}</style><div id=\"sk-container-id-1\" class=\"sk-top-container\"><div class=\"sk-text-repr-fallback\"><pre>NearestNeighbors(algorithm=&#x27;brute&#x27;)</pre><b>In a Jupyter environment, please rerun this cell to show the HTML representation or trust the notebook. <br />On GitHub, the HTML representation is unable to render, please try loading this page with nbviewer.org.</b></div><div class=\"sk-container\" hidden><div class=\"sk-item\"><div class=\"sk-estimator sk-toggleable\"><input class=\"sk-toggleable__control sk-hidden--visually\" id=\"sk-estimator-id-1\" type=\"checkbox\" checked><label for=\"sk-estimator-id-1\" class=\"sk-toggleable__label sk-toggleable__label-arrow\">NearestNeighbors</label><div class=\"sk-toggleable__content\"><pre>NearestNeighbors(algorithm=&#x27;brute&#x27;)</pre></div></div></div></div></div>"
            ],
            "text/plain": [
              "NearestNeighbors(algorithm='brute')"
            ]
          },
          "execution_count": 24,
          "metadata": {},
          "output_type": "execute_result"
        }
      ],
      "source": [
        "model.fit(book_sparse)"
      ]
    },
    {
      "cell_type": "code",
      "execution_count": 25,
      "metadata": {
        "id": "a4wW96n5hVrA"
      },
      "outputs": [],
      "source": [
        "distance,suggestion=model.kneighbors(book_pivot.iloc[237,:].values.reshape(1,-1),n_neighbors=6)\n"
      ]
    },
    {
      "cell_type": "code",
      "execution_count": 26,
      "metadata": {
        "colab": {
          "base_uri": "https://localhost:8080/"
        },
        "id": "tCY3B_x7iBtK",
        "outputId": "fbe74d85-47ef-48c1-edf0-da56322c6fb9"
      },
      "outputs": [
        {
          "data": {
            "text/plain": [
              "array([[ 0.        , 68.78953409, 69.5413546 , 72.64296249, 76.83098333,\n",
              "        77.28518616]])"
            ]
          },
          "execution_count": 26,
          "metadata": {},
          "output_type": "execute_result"
        }
      ],
      "source": [
        "distance"
      ]
    },
    {
      "cell_type": "code",
      "execution_count": 27,
      "metadata": {
        "colab": {
          "base_uri": "https://localhost:8080/"
        },
        "id": "c33eIrqViRw8",
        "outputId": "1c1001c7-a67b-467f-c051-fa5e4118d253"
      },
      "outputs": [
        {
          "data": {
            "text/plain": [
              "array([[237, 240, 238, 241, 184, 536]], dtype=int64)"
            ]
          },
          "execution_count": 27,
          "metadata": {},
          "output_type": "execute_result"
        }
      ],
      "source": [
        "suggestion"
      ]
    },
    {
      "cell_type": "code",
      "execution_count": 28,
      "metadata": {
        "colab": {
          "base_uri": "https://localhost:8080/"
        },
        "id": "1USzOVjLiT0p",
        "outputId": "d2c49edf-93c9-4c33-c7d0-92bae2a647a5"
      },
      "outputs": [
        {
          "name": "stdout",
          "output_type": "stream",
          "text": [
            "Index(['Harry Potter and the Chamber of Secrets (Book 2)',\n",
            "       'Harry Potter and the Prisoner of Azkaban (Book 3)',\n",
            "       'Harry Potter and the Goblet of Fire (Book 4)',\n",
            "       'Harry Potter and the Sorcerer's Stone (Book 1)', 'Exclusive',\n",
            "       'The Cradle Will Fall'],\n",
            "      dtype='object', name='title')\n"
          ]
        }
      ],
      "source": [
        "for i in range(len(suggestion)):\n",
        "  print(book_pivot.index[suggestion[i]])\n",
        "  #to see the recommendation"
      ]
    },
    {
      "cell_type": "code",
      "execution_count": 29,
      "metadata": {
        "colab": {
          "base_uri": "https://localhost:8080/",
          "height": 35
        },
        "id": "ojF5I3aTicmy",
        "outputId": "9a37162c-ad4d-451d-c46c-573f4ca510b7"
      },
      "outputs": [
        {
          "data": {
            "text/plain": [
              "'4 Blondes'"
            ]
          },
          "execution_count": 29,
          "metadata": {},
          "output_type": "execute_result"
        }
      ],
      "source": [
        "book_pivot.index[3]"
      ]
    },
    {
      "cell_type": "code",
      "execution_count": 30,
      "metadata": {
        "id": "zjAOghoIi86r"
      },
      "outputs": [],
      "source": [
        "books_name=book_pivot.index"
      ]
    },
    {
      "cell_type": "code",
      "execution_count": 31,
      "metadata": {
        "id": "RQQLoFjIjAlo"
      },
      "outputs": [],
      "source": [
        "import pickle\n",
        "pickle.dump(model,open('artifacts/model.pkl','wb'))\n",
        "pickle.dump(books_name,open('artifacts/book_name.pkl','wb'))\n",
        "pickle.dump(final_rating,open('artifacts/final_rating.pkl','wb'))\n",
        "pickle.dump(book_pivot,open('artifacts/book_pivot.pkl','wb'))\n"
      ]
    },
    {
      "cell_type": "code",
      "execution_count": 32,
      "metadata": {
        "id": "-ybLmG5e3jtq"
      },
      "outputs": [],
      "source": [
        "def recommend_me_the_book(book_name):\n",
        "  try:\n",
        "    book_id=np.where(book_pivot.index ==book_name)[0][0]\n",
        "    distance,suggestion=model.kneighbors(book_pivot.iloc[book_id,:].values.reshape(1,-1),n_neighbors=6)\n",
        "  \n",
        "    for i in range(len(suggestion)):\n",
        "      books=book_pivot.index[suggestion[i]]\n",
        "      for j in books:\n",
        "        print(j)\n",
        "  except IndexError:\n",
        "    print(\"The book doesnt exists in the database\")\n",
        "  \n"
      ]
    },
    {
      "cell_type": "code",
      "execution_count": 33,
      "metadata": {
        "colab": {
          "base_uri": "https://localhost:8080/"
        },
        "id": "dpAM6oML5mgO",
        "outputId": "29e570f5-d820-4179-d24d-d7fb3dc0f13e"
      },
      "outputs": [
        {
          "name": "stdout",
          "output_type": "stream",
          "text": [
            "The book doesnt exists in the database\n"
          ]
        }
      ],
      "source": [
        "book_name=''\n",
        "recommend_me_the_book(book_name)"
      ]
    },
    {
      "cell_type": "code",
      "execution_count": null,
      "metadata": {
        "id": "Jep2698e5xr-"
      },
      "outputs": [],
      "source": []
    }
  ],
  "metadata": {
    "colab": {
      "provenance": []
    },
    "kernelspec": {
      "display_name": "Python 3",
      "name": "python3"
    },
    "language_info": {
      "codemirror_mode": {
        "name": "ipython",
        "version": 3
      },
      "file_extension": ".py",
      "mimetype": "text/x-python",
      "name": "python",
      "nbconvert_exporter": "python",
      "pygments_lexer": "ipython3",
      "version": "3.10.11"
    }
  },
  "nbformat": 4,
  "nbformat_minor": 0
}
