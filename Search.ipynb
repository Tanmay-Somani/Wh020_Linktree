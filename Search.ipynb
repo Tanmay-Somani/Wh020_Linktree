{
  "nbformat": 4,
  "nbformat_minor": 0,
  "metadata": {
    "colab": {
      "provenance": [],
      "authorship_tag": "ABX9TyMt3Vvv/dggZsR4oodFGLof",
      "include_colab_link": true
    },
    "kernelspec": {
      "name": "python3",
      "display_name": "Python 3"
    },
    "language_info": {
      "name": "python"
    }
  },
  "cells": [
    {
      "cell_type": "markdown",
      "metadata": {
        "id": "view-in-github",
        "colab_type": "text"
      },
      "source": [
        "<a href=\"https://colab.research.google.com/github/Tanmay-Somani/Wh020_Linktree/blob/main/Search.ipynb\" target=\"_parent\"><img src=\"https://colab.research.google.com/assets/colab-badge.svg\" alt=\"Open In Colab\"/></a>"
      ]
    },
    {
      "cell_type": "code",
      "execution_count": 168,
      "metadata": {
        "id": "qxi_UMABE_rL"
      },
      "outputs": [],
      "source": []
    },
    {
      "cell_type": "markdown",
      "source": [
        "#book recommender system using collaborative clustering\n"
      ],
      "metadata": {
        "id": "BT8EtTnLFdxp"
      }
    },
    {
      "cell_type": "code",
      "source": [
        "import pandas as pd\n",
        "import numpy as np\n",
        "import matplotlib.pyplot as plt\n",
        "import seaborn as sns"
      ],
      "metadata": {
        "id": "N1QumxF2Fkol"
      },
      "execution_count": 169,
      "outputs": []
    },
    {
      "cell_type": "code",
      "source": [
        "books=pd.read_csv(\"sample_data/BX-Books.csv\",sep=';',error_bad_lines=False ,encoding='latin-1') "
      ],
      "metadata": {
        "colab": {
          "base_uri": "https://localhost:8080/"
        },
        "id": "01_CleRxFupl",
        "outputId": "9889fd29-55f6-48a9-a365-c315897cab40"
      },
      "execution_count": 170,
      "outputs": [
        {
          "output_type": "stream",
          "name": "stderr",
          "text": [
            "<ipython-input-170-b3d0ab71e29e>:1: FutureWarning: The error_bad_lines argument has been deprecated and will be removed in a future version. Use on_bad_lines in the future.\n",
            "\n",
            "\n",
            "  books=pd.read_csv(\"sample_data/BX-Books.csv\",sep=';',error_bad_lines=False ,encoding='latin-1')\n",
            "b'Skipping line 6452: expected 8 fields, saw 9\\nSkipping line 43667: expected 8 fields, saw 10\\nSkipping line 51751: expected 8 fields, saw 9\\n'\n",
            "b'Skipping line 92038: expected 8 fields, saw 9\\nSkipping line 104319: expected 8 fields, saw 9\\nSkipping line 121768: expected 8 fields, saw 9\\n'\n",
            "b'Skipping line 144058: expected 8 fields, saw 9\\nSkipping line 150789: expected 8 fields, saw 9\\nSkipping line 157128: expected 8 fields, saw 9\\nSkipping line 180189: expected 8 fields, saw 9\\nSkipping line 185738: expected 8 fields, saw 9\\n'\n",
            "b'Skipping line 209388: expected 8 fields, saw 9\\nSkipping line 220626: expected 8 fields, saw 9\\nSkipping line 227933: expected 8 fields, saw 11\\nSkipping line 228957: expected 8 fields, saw 10\\nSkipping line 245933: expected 8 fields, saw 9\\nSkipping line 251296: expected 8 fields, saw 9\\nSkipping line 259941: expected 8 fields, saw 9\\nSkipping line 261529: expected 8 fields, saw 9\\n'\n",
            "<ipython-input-170-b3d0ab71e29e>:1: DtypeWarning: Columns (3) have mixed types. Specify dtype option on import or set low_memory=False.\n",
            "  books=pd.read_csv(\"sample_data/BX-Books.csv\",sep=';',error_bad_lines=False ,encoding='latin-1')\n"
          ]
        }
      ]
    },
    {
      "cell_type": "code",
      "source": [
        "books=books[['ISBN','Book-Title', 'Book-Author', 'Year-Of-Publication', 'Publisher']]"
      ],
      "metadata": {
        "id": "u9Xdm5HPGE_J"
      },
      "execution_count": 171,
      "outputs": []
    },
    {
      "cell_type": "code",
      "source": [
        "books.rename(columns={\n",
        "    \"Book-Title\":\"title\",\n",
        "    \"Books-Author\":\"author\",\n",
        "    \"Year-Of-Publication\":\"year\",\n",
        "    \"Image-URL-L\":\"img_url\"\n",
        "},inplace=True)"
      ],
      "metadata": {
        "id": "Y8YxkFV8GexM"
      },
      "execution_count": 172,
      "outputs": []
    },
    {
      "cell_type": "code",
      "source": [
        "users=pd.read_csv(\"sample_data/BX-Users.csv\",sep=';',error_bad_lines=False ,encoding='latin-1') "
      ],
      "metadata": {
        "colab": {
          "base_uri": "https://localhost:8080/"
        },
        "id": "yyV9WpJ1Grlx",
        "outputId": "5de30e71-255b-477f-8e8d-582bb7015e2f"
      },
      "execution_count": 173,
      "outputs": [
        {
          "output_type": "stream",
          "name": "stderr",
          "text": [
            "<ipython-input-173-9ca8b7c8fe35>:1: FutureWarning: The error_bad_lines argument has been deprecated and will be removed in a future version. Use on_bad_lines in the future.\n",
            "\n",
            "\n",
            "  users=pd.read_csv(\"sample_data/BX-Users.csv\",sep=';',error_bad_lines=False ,encoding='latin-1')\n"
          ]
        }
      ]
    },
    {
      "cell_type": "code",
      "source": [
        "ratings=pd.read_csv(\"sample_data/BX-Book-Ratings.csv\",sep=';',error_bad_lines=False ,encoding='latin-1') "
      ],
      "metadata": {
        "colab": {
          "base_uri": "https://localhost:8080/"
        },
        "id": "Lkcfz_3lIHvW",
        "outputId": "657fd2b3-37d9-434c-fe3e-7310e70b59d1"
      },
      "execution_count": 174,
      "outputs": [
        {
          "output_type": "stream",
          "name": "stderr",
          "text": [
            "<ipython-input-174-252b9ded5838>:1: FutureWarning: The error_bad_lines argument has been deprecated and will be removed in a future version. Use on_bad_lines in the future.\n",
            "\n",
            "\n",
            "  ratings=pd.read_csv(\"sample_data/BX-Book-Ratings.csv\",sep=';',error_bad_lines=False ,encoding='latin-1')\n"
          ]
        }
      ]
    },
    {
      "cell_type": "markdown",
      "source": [
        "In collaborative system it is important for a user to give you ratings."
      ],
      "metadata": {
        "id": "mY4AZRUeIe-m"
      }
    },
    {
      "cell_type": "code",
      "source": [
        "ratings.rename(columns={\"User-ID\":\"user_id\",\"Book-Rating\":\"rating\"},inplace=True)"
      ],
      "metadata": {
        "id": "ylk1Z7Q-IYnW"
      },
      "execution_count": 175,
      "outputs": []
    },
    {
      "cell_type": "code",
      "source": [
        "x=ratings[\"user_id\"].value_counts()>200"
      ],
      "metadata": {
        "id": "C9RBSjePJMqA"
      },
      "execution_count": 176,
      "outputs": []
    },
    {
      "cell_type": "code",
      "source": [
        "y=x[x].index"
      ],
      "metadata": {
        "id": "raO8vnHxJ6Vl"
      },
      "execution_count": 177,
      "outputs": []
    },
    {
      "cell_type": "code",
      "source": [
        "ratings=ratings[ratings['user_id'].isin(y)]"
      ],
      "metadata": {
        "id": "4kBHydvVPeVO"
      },
      "execution_count": 178,
      "outputs": []
    },
    {
      "cell_type": "code",
      "source": [
        "ratings_with_books=ratings.merge(books,on=\"ISBN\")"
      ],
      "metadata": {
        "id": "g60PajkrKIqd"
      },
      "execution_count": 179,
      "outputs": []
    },
    {
      "cell_type": "code",
      "source": [
        "num_rating=ratings_with_books.groupby('title')['rating'].count().reset_index()"
      ],
      "metadata": {
        "id": "feFf4EUrKZh_"
      },
      "execution_count": 180,
      "outputs": []
    },
    {
      "cell_type": "code",
      "source": [
        "num_rating.rename(columns={\"rating\":\"num_of_rating\"},inplace=True)"
      ],
      "metadata": {
        "id": "RNmWN2aeK1Zw"
      },
      "execution_count": 181,
      "outputs": []
    },
    {
      "cell_type": "code",
      "source": [
        "final_rating=ratings_with_books.merge(num_rating,on ='title')"
      ],
      "metadata": {
        "id": "aRVnTo7JLmQV"
      },
      "execution_count": 182,
      "outputs": []
    },
    {
      "cell_type": "code",
      "source": [
        "final_rating=final_rating[final_rating[\"num_of_rating\"]>=50]"
      ],
      "metadata": {
        "id": "VLzFwK1DL1J_"
      },
      "execution_count": 183,
      "outputs": []
    },
    {
      "cell_type": "code",
      "source": [
        "final_rating.sample(10)"
      ],
      "metadata": {
        "colab": {
          "base_uri": "https://localhost:8080/",
          "height": 363
        },
        "id": "GfvCpR0wR9TM",
        "outputId": "6a2ab2c5-64ab-4bb8-9898-527eeb80daa6"
      },
      "execution_count": 184,
      "outputs": [
        {
          "output_type": "execute_result",
          "data": {
            "text/plain": [
              "        user_id        ISBN  rating  \\\n",
              "10354     46398  0553280368       0   \n",
              "80170    239584  1565117794       0   \n",
              "18641    166123  0425147363       0   \n",
              "82104      8245  1569471169       7   \n",
              "150812    68555  0060959037       0   \n",
              "2046     108352  0316602051       0   \n",
              "8650     143415  0446611212       0   \n",
              "20392    198711  0451162072       0   \n",
              "42732     87555  0553272535       0   \n",
              "25197    129358  0345313860       0   \n",
              "\n",
              "                                                    title         Book-Author  \\\n",
              "10354   C Is for Corpse (Kinsey Millhone Mysteries (Pa...         Sue Grafton   \n",
              "80170                                          Life of Pi         Yann Martel   \n",
              "18641   Tom Clancy's Op-Center (Tom Clancy's Op Center...          Tom Clancy   \n",
              "82104                                      Falling Angels       Barbara Gowdy   \n",
              "150812                           Prodigal Summer: A Novel  Barbara Kingsolver   \n",
              "2046                                           The Jester     James Patterson   \n",
              "8650                                     Violets Are Blue     James Patterson   \n",
              "20392                                        Pet Sematary        Stephen King   \n",
              "42732                                               Night         Elie Wiesel   \n",
              "25197    The Vampire Lestat (Vampire Chronicles, Book II)           ANNE RICE   \n",
              "\n",
              "        year                 Publisher  num_of_rating  \n",
              "10354   1987                    Bantam             93  \n",
              "80170   2003          Highbridge Audio            185  \n",
              "18641   1995  Berkley Publishing Group             63  \n",
              "82104   1998                Soho Press             61  \n",
              "150812  2001                 Perennial             50  \n",
              "2046    2003             Little, Brown             68  \n",
              "8650    2002             Warner Vision            150  \n",
              "20392   1994               Signet Book            119  \n",
              "42732   1982              Bantam Books             76  \n",
              "25197   1986          Ballantine Books            123  "
            ],
            "text/html": [
              "\n",
              "  <div id=\"df-f8d9f962-c0be-4065-b93a-ed4f3466119c\">\n",
              "    <div class=\"colab-df-container\">\n",
              "      <div>\n",
              "<style scoped>\n",
              "    .dataframe tbody tr th:only-of-type {\n",
              "        vertical-align: middle;\n",
              "    }\n",
              "\n",
              "    .dataframe tbody tr th {\n",
              "        vertical-align: top;\n",
              "    }\n",
              "\n",
              "    .dataframe thead th {\n",
              "        text-align: right;\n",
              "    }\n",
              "</style>\n",
              "<table border=\"1\" class=\"dataframe\">\n",
              "  <thead>\n",
              "    <tr style=\"text-align: right;\">\n",
              "      <th></th>\n",
              "      <th>user_id</th>\n",
              "      <th>ISBN</th>\n",
              "      <th>rating</th>\n",
              "      <th>title</th>\n",
              "      <th>Book-Author</th>\n",
              "      <th>year</th>\n",
              "      <th>Publisher</th>\n",
              "      <th>num_of_rating</th>\n",
              "    </tr>\n",
              "  </thead>\n",
              "  <tbody>\n",
              "    <tr>\n",
              "      <th>10354</th>\n",
              "      <td>46398</td>\n",
              "      <td>0553280368</td>\n",
              "      <td>0</td>\n",
              "      <td>C Is for Corpse (Kinsey Millhone Mysteries (Pa...</td>\n",
              "      <td>Sue Grafton</td>\n",
              "      <td>1987</td>\n",
              "      <td>Bantam</td>\n",
              "      <td>93</td>\n",
              "    </tr>\n",
              "    <tr>\n",
              "      <th>80170</th>\n",
              "      <td>239584</td>\n",
              "      <td>1565117794</td>\n",
              "      <td>0</td>\n",
              "      <td>Life of Pi</td>\n",
              "      <td>Yann Martel</td>\n",
              "      <td>2003</td>\n",
              "      <td>Highbridge Audio</td>\n",
              "      <td>185</td>\n",
              "    </tr>\n",
              "    <tr>\n",
              "      <th>18641</th>\n",
              "      <td>166123</td>\n",
              "      <td>0425147363</td>\n",
              "      <td>0</td>\n",
              "      <td>Tom Clancy's Op-Center (Tom Clancy's Op Center...</td>\n",
              "      <td>Tom Clancy</td>\n",
              "      <td>1995</td>\n",
              "      <td>Berkley Publishing Group</td>\n",
              "      <td>63</td>\n",
              "    </tr>\n",
              "    <tr>\n",
              "      <th>82104</th>\n",
              "      <td>8245</td>\n",
              "      <td>1569471169</td>\n",
              "      <td>7</td>\n",
              "      <td>Falling Angels</td>\n",
              "      <td>Barbara Gowdy</td>\n",
              "      <td>1998</td>\n",
              "      <td>Soho Press</td>\n",
              "      <td>61</td>\n",
              "    </tr>\n",
              "    <tr>\n",
              "      <th>150812</th>\n",
              "      <td>68555</td>\n",
              "      <td>0060959037</td>\n",
              "      <td>0</td>\n",
              "      <td>Prodigal Summer: A Novel</td>\n",
              "      <td>Barbara Kingsolver</td>\n",
              "      <td>2001</td>\n",
              "      <td>Perennial</td>\n",
              "      <td>50</td>\n",
              "    </tr>\n",
              "    <tr>\n",
              "      <th>2046</th>\n",
              "      <td>108352</td>\n",
              "      <td>0316602051</td>\n",
              "      <td>0</td>\n",
              "      <td>The Jester</td>\n",
              "      <td>James Patterson</td>\n",
              "      <td>2003</td>\n",
              "      <td>Little, Brown</td>\n",
              "      <td>68</td>\n",
              "    </tr>\n",
              "    <tr>\n",
              "      <th>8650</th>\n",
              "      <td>143415</td>\n",
              "      <td>0446611212</td>\n",
              "      <td>0</td>\n",
              "      <td>Violets Are Blue</td>\n",
              "      <td>James Patterson</td>\n",
              "      <td>2002</td>\n",
              "      <td>Warner Vision</td>\n",
              "      <td>150</td>\n",
              "    </tr>\n",
              "    <tr>\n",
              "      <th>20392</th>\n",
              "      <td>198711</td>\n",
              "      <td>0451162072</td>\n",
              "      <td>0</td>\n",
              "      <td>Pet Sematary</td>\n",
              "      <td>Stephen King</td>\n",
              "      <td>1994</td>\n",
              "      <td>Signet Book</td>\n",
              "      <td>119</td>\n",
              "    </tr>\n",
              "    <tr>\n",
              "      <th>42732</th>\n",
              "      <td>87555</td>\n",
              "      <td>0553272535</td>\n",
              "      <td>0</td>\n",
              "      <td>Night</td>\n",
              "      <td>Elie Wiesel</td>\n",
              "      <td>1982</td>\n",
              "      <td>Bantam Books</td>\n",
              "      <td>76</td>\n",
              "    </tr>\n",
              "    <tr>\n",
              "      <th>25197</th>\n",
              "      <td>129358</td>\n",
              "      <td>0345313860</td>\n",
              "      <td>0</td>\n",
              "      <td>The Vampire Lestat (Vampire Chronicles, Book II)</td>\n",
              "      <td>ANNE RICE</td>\n",
              "      <td>1986</td>\n",
              "      <td>Ballantine Books</td>\n",
              "      <td>123</td>\n",
              "    </tr>\n",
              "  </tbody>\n",
              "</table>\n",
              "</div>\n",
              "      <button class=\"colab-df-convert\" onclick=\"convertToInteractive('df-f8d9f962-c0be-4065-b93a-ed4f3466119c')\"\n",
              "              title=\"Convert this dataframe to an interactive table.\"\n",
              "              style=\"display:none;\">\n",
              "        \n",
              "  <svg xmlns=\"http://www.w3.org/2000/svg\" height=\"24px\"viewBox=\"0 0 24 24\"\n",
              "       width=\"24px\">\n",
              "    <path d=\"M0 0h24v24H0V0z\" fill=\"none\"/>\n",
              "    <path d=\"M18.56 5.44l.94 2.06.94-2.06 2.06-.94-2.06-.94-.94-2.06-.94 2.06-2.06.94zm-11 1L8.5 8.5l.94-2.06 2.06-.94-2.06-.94L8.5 2.5l-.94 2.06-2.06.94zm10 10l.94 2.06.94-2.06 2.06-.94-2.06-.94-.94-2.06-.94 2.06-2.06.94z\"/><path d=\"M17.41 7.96l-1.37-1.37c-.4-.4-.92-.59-1.43-.59-.52 0-1.04.2-1.43.59L10.3 9.45l-7.72 7.72c-.78.78-.78 2.05 0 2.83L4 21.41c.39.39.9.59 1.41.59.51 0 1.02-.2 1.41-.59l7.78-7.78 2.81-2.81c.8-.78.8-2.07 0-2.86zM5.41 20L4 18.59l7.72-7.72 1.47 1.35L5.41 20z\"/>\n",
              "  </svg>\n",
              "      </button>\n",
              "      \n",
              "  <style>\n",
              "    .colab-df-container {\n",
              "      display:flex;\n",
              "      flex-wrap:wrap;\n",
              "      gap: 12px;\n",
              "    }\n",
              "\n",
              "    .colab-df-convert {\n",
              "      background-color: #E8F0FE;\n",
              "      border: none;\n",
              "      border-radius: 50%;\n",
              "      cursor: pointer;\n",
              "      display: none;\n",
              "      fill: #1967D2;\n",
              "      height: 32px;\n",
              "      padding: 0 0 0 0;\n",
              "      width: 32px;\n",
              "    }\n",
              "\n",
              "    .colab-df-convert:hover {\n",
              "      background-color: #E2EBFA;\n",
              "      box-shadow: 0px 1px 2px rgba(60, 64, 67, 0.3), 0px 1px 3px 1px rgba(60, 64, 67, 0.15);\n",
              "      fill: #174EA6;\n",
              "    }\n",
              "\n",
              "    [theme=dark] .colab-df-convert {\n",
              "      background-color: #3B4455;\n",
              "      fill: #D2E3FC;\n",
              "    }\n",
              "\n",
              "    [theme=dark] .colab-df-convert:hover {\n",
              "      background-color: #434B5C;\n",
              "      box-shadow: 0px 1px 3px 1px rgba(0, 0, 0, 0.15);\n",
              "      filter: drop-shadow(0px 1px 2px rgba(0, 0, 0, 0.3));\n",
              "      fill: #FFFFFF;\n",
              "    }\n",
              "  </style>\n",
              "\n",
              "      <script>\n",
              "        const buttonEl =\n",
              "          document.querySelector('#df-f8d9f962-c0be-4065-b93a-ed4f3466119c button.colab-df-convert');\n",
              "        buttonEl.style.display =\n",
              "          google.colab.kernel.accessAllowed ? 'block' : 'none';\n",
              "\n",
              "        async function convertToInteractive(key) {\n",
              "          const element = document.querySelector('#df-f8d9f962-c0be-4065-b93a-ed4f3466119c');\n",
              "          const dataTable =\n",
              "            await google.colab.kernel.invokeFunction('convertToInteractive',\n",
              "                                                     [key], {});\n",
              "          if (!dataTable) return;\n",
              "\n",
              "          const docLinkHtml = 'Like what you see? Visit the ' +\n",
              "            '<a target=\"_blank\" href=https://colab.research.google.com/notebooks/data_table.ipynb>data table notebook</a>'\n",
              "            + ' to learn more about interactive tables.';\n",
              "          element.innerHTML = '';\n",
              "          dataTable['output_type'] = 'display_data';\n",
              "          await google.colab.output.renderOutput(dataTable, element);\n",
              "          const docLink = document.createElement('div');\n",
              "          docLink.innerHTML = docLinkHtml;\n",
              "          element.appendChild(docLink);\n",
              "        }\n",
              "      </script>\n",
              "    </div>\n",
              "  </div>\n",
              "  "
            ]
          },
          "metadata": {},
          "execution_count": 184
        }
      ]
    },
    {
      "cell_type": "code",
      "source": [
        "final_rating.drop_duplicates(['user_id','title'],inplace=True)"
      ],
      "metadata": {
        "id": "qOl9H8vnSIWa"
      },
      "execution_count": 185,
      "outputs": []
    },
    {
      "cell_type": "markdown",
      "source": [],
      "metadata": {
        "id": "xsbrj4dYUb3m"
      }
    },
    {
      "cell_type": "code",
      "source": [
        "book_pivot=final_rating.pivot_table(columns='user_id',index='title',values='rating')"
      ],
      "metadata": {
        "id": "zqphtonnTGhf"
      },
      "execution_count": 186,
      "outputs": []
    },
    {
      "cell_type": "code",
      "source": [
        "book_pivot.fillna(0,inplace=True)"
      ],
      "metadata": {
        "id": "fsD26vyiUsK5"
      },
      "execution_count": 187,
      "outputs": []
    },
    {
      "cell_type": "code",
      "source": [
        "from scipy.sparse import csr_matrix"
      ],
      "metadata": {
        "id": "vA5wmmyEVMTw"
      },
      "execution_count": 188,
      "outputs": []
    },
    {
      "cell_type": "code",
      "source": [
        "book_sparse=csr_matrix(book_pivot)"
      ],
      "metadata": {
        "id": "Dj6V3d6mWBrk"
      },
      "execution_count": 189,
      "outputs": []
    },
    {
      "cell_type": "code",
      "source": [
        "from sklearn.neighbors import NearestNeighbors"
      ],
      "metadata": {
        "id": "AikcoTesWJOJ"
      },
      "execution_count": 190,
      "outputs": []
    },
    {
      "cell_type": "code",
      "source": [
        "model=NearestNeighbors(algorithm='brute')\n"
      ],
      "metadata": {
        "id": "qXrqXSa-Wuyc"
      },
      "execution_count": 191,
      "outputs": []
    },
    {
      "cell_type": "code",
      "source": [
        "model.fit(book_sparse)"
      ],
      "metadata": {
        "colab": {
          "base_uri": "https://localhost:8080/",
          "height": 75
        },
        "id": "9Ye5m3kNhRm-",
        "outputId": "c3e22bf6-34e1-4a75-a7fe-9db1a27d9722"
      },
      "execution_count": 192,
      "outputs": [
        {
          "output_type": "execute_result",
          "data": {
            "text/plain": [
              "NearestNeighbors(algorithm='brute')"
            ],
            "text/html": [
              "<style>#sk-container-id-2 {color: black;background-color: white;}#sk-container-id-2 pre{padding: 0;}#sk-container-id-2 div.sk-toggleable {background-color: white;}#sk-container-id-2 label.sk-toggleable__label {cursor: pointer;display: block;width: 100%;margin-bottom: 0;padding: 0.3em;box-sizing: border-box;text-align: center;}#sk-container-id-2 label.sk-toggleable__label-arrow:before {content: \"▸\";float: left;margin-right: 0.25em;color: #696969;}#sk-container-id-2 label.sk-toggleable__label-arrow:hover:before {color: black;}#sk-container-id-2 div.sk-estimator:hover label.sk-toggleable__label-arrow:before {color: black;}#sk-container-id-2 div.sk-toggleable__content {max-height: 0;max-width: 0;overflow: hidden;text-align: left;background-color: #f0f8ff;}#sk-container-id-2 div.sk-toggleable__content pre {margin: 0.2em;color: black;border-radius: 0.25em;background-color: #f0f8ff;}#sk-container-id-2 input.sk-toggleable__control:checked~div.sk-toggleable__content {max-height: 200px;max-width: 100%;overflow: auto;}#sk-container-id-2 input.sk-toggleable__control:checked~label.sk-toggleable__label-arrow:before {content: \"▾\";}#sk-container-id-2 div.sk-estimator input.sk-toggleable__control:checked~label.sk-toggleable__label {background-color: #d4ebff;}#sk-container-id-2 div.sk-label input.sk-toggleable__control:checked~label.sk-toggleable__label {background-color: #d4ebff;}#sk-container-id-2 input.sk-hidden--visually {border: 0;clip: rect(1px 1px 1px 1px);clip: rect(1px, 1px, 1px, 1px);height: 1px;margin: -1px;overflow: hidden;padding: 0;position: absolute;width: 1px;}#sk-container-id-2 div.sk-estimator {font-family: monospace;background-color: #f0f8ff;border: 1px dotted black;border-radius: 0.25em;box-sizing: border-box;margin-bottom: 0.5em;}#sk-container-id-2 div.sk-estimator:hover {background-color: #d4ebff;}#sk-container-id-2 div.sk-parallel-item::after {content: \"\";width: 100%;border-bottom: 1px solid gray;flex-grow: 1;}#sk-container-id-2 div.sk-label:hover label.sk-toggleable__label {background-color: #d4ebff;}#sk-container-id-2 div.sk-serial::before {content: \"\";position: absolute;border-left: 1px solid gray;box-sizing: border-box;top: 0;bottom: 0;left: 50%;z-index: 0;}#sk-container-id-2 div.sk-serial {display: flex;flex-direction: column;align-items: center;background-color: white;padding-right: 0.2em;padding-left: 0.2em;position: relative;}#sk-container-id-2 div.sk-item {position: relative;z-index: 1;}#sk-container-id-2 div.sk-parallel {display: flex;align-items: stretch;justify-content: center;background-color: white;position: relative;}#sk-container-id-2 div.sk-item::before, #sk-container-id-2 div.sk-parallel-item::before {content: \"\";position: absolute;border-left: 1px solid gray;box-sizing: border-box;top: 0;bottom: 0;left: 50%;z-index: -1;}#sk-container-id-2 div.sk-parallel-item {display: flex;flex-direction: column;z-index: 1;position: relative;background-color: white;}#sk-container-id-2 div.sk-parallel-item:first-child::after {align-self: flex-end;width: 50%;}#sk-container-id-2 div.sk-parallel-item:last-child::after {align-self: flex-start;width: 50%;}#sk-container-id-2 div.sk-parallel-item:only-child::after {width: 0;}#sk-container-id-2 div.sk-dashed-wrapped {border: 1px dashed gray;margin: 0 0.4em 0.5em 0.4em;box-sizing: border-box;padding-bottom: 0.4em;background-color: white;}#sk-container-id-2 div.sk-label label {font-family: monospace;font-weight: bold;display: inline-block;line-height: 1.2em;}#sk-container-id-2 div.sk-label-container {text-align: center;}#sk-container-id-2 div.sk-container {/* jupyter's `normalize.less` sets `[hidden] { display: none; }` but bootstrap.min.css set `[hidden] { display: none !important; }` so we also need the `!important` here to be able to override the default hidden behavior on the sphinx rendered scikit-learn.org. See: https://github.com/scikit-learn/scikit-learn/issues/21755 */display: inline-block !important;position: relative;}#sk-container-id-2 div.sk-text-repr-fallback {display: none;}</style><div id=\"sk-container-id-2\" class=\"sk-top-container\"><div class=\"sk-text-repr-fallback\"><pre>NearestNeighbors(algorithm=&#x27;brute&#x27;)</pre><b>In a Jupyter environment, please rerun this cell to show the HTML representation or trust the notebook. <br />On GitHub, the HTML representation is unable to render, please try loading this page with nbviewer.org.</b></div><div class=\"sk-container\" hidden><div class=\"sk-item\"><div class=\"sk-estimator sk-toggleable\"><input class=\"sk-toggleable__control sk-hidden--visually\" id=\"sk-estimator-id-2\" type=\"checkbox\" checked><label for=\"sk-estimator-id-2\" class=\"sk-toggleable__label sk-toggleable__label-arrow\">NearestNeighbors</label><div class=\"sk-toggleable__content\"><pre>NearestNeighbors(algorithm=&#x27;brute&#x27;)</pre></div></div></div></div></div>"
            ]
          },
          "metadata": {},
          "execution_count": 192
        }
      ]
    },
    {
      "cell_type": "code",
      "source": [
        "distance,suggestion=model.kneighbors(book_pivot.iloc[237,:].values.reshape(1,-1),n_neighbors=6)\n"
      ],
      "metadata": {
        "id": "a4wW96n5hVrA"
      },
      "execution_count": 193,
      "outputs": []
    },
    {
      "cell_type": "code",
      "source": [
        "distance"
      ],
      "metadata": {
        "colab": {
          "base_uri": "https://localhost:8080/"
        },
        "id": "tCY3B_x7iBtK",
        "outputId": "fbe74d85-47ef-48c1-edf0-da56322c6fb9"
      },
      "execution_count": 194,
      "outputs": [
        {
          "output_type": "execute_result",
          "data": {
            "text/plain": [
              "array([[ 0.        , 68.78953409, 69.5413546 , 72.64296249, 76.83098333,\n",
              "        77.28518616]])"
            ]
          },
          "metadata": {},
          "execution_count": 194
        }
      ]
    },
    {
      "cell_type": "code",
      "source": [
        "suggestion"
      ],
      "metadata": {
        "colab": {
          "base_uri": "https://localhost:8080/"
        },
        "id": "c33eIrqViRw8",
        "outputId": "1c1001c7-a67b-467f-c051-fa5e4118d253"
      },
      "execution_count": 195,
      "outputs": [
        {
          "output_type": "execute_result",
          "data": {
            "text/plain": [
              "array([[237, 240, 238, 241, 184, 536]])"
            ]
          },
          "metadata": {},
          "execution_count": 195
        }
      ]
    },
    {
      "cell_type": "code",
      "source": [
        "for i in range(len(suggestion)):\n",
        "  print(book_pivot.index[suggestion[i]])\n",
        "  #to see the recommendation"
      ],
      "metadata": {
        "colab": {
          "base_uri": "https://localhost:8080/"
        },
        "id": "1USzOVjLiT0p",
        "outputId": "d2c49edf-93c9-4c33-c7d0-92bae2a647a5"
      },
      "execution_count": 196,
      "outputs": [
        {
          "output_type": "stream",
          "name": "stdout",
          "text": [
            "Index(['Harry Potter and the Chamber of Secrets (Book 2)',\n",
            "       'Harry Potter and the Prisoner of Azkaban (Book 3)',\n",
            "       'Harry Potter and the Goblet of Fire (Book 4)',\n",
            "       'Harry Potter and the Sorcerer's Stone (Book 1)', 'Exclusive',\n",
            "       'The Cradle Will Fall'],\n",
            "      dtype='object', name='title')\n"
          ]
        }
      ]
    },
    {
      "cell_type": "code",
      "source": [
        "book_pivot.index[3]"
      ],
      "metadata": {
        "colab": {
          "base_uri": "https://localhost:8080/",
          "height": 35
        },
        "id": "ojF5I3aTicmy",
        "outputId": "9a37162c-ad4d-451d-c46c-573f4ca510b7"
      },
      "execution_count": 197,
      "outputs": [
        {
          "output_type": "execute_result",
          "data": {
            "text/plain": [
              "'4 Blondes'"
            ],
            "application/vnd.google.colaboratory.intrinsic+json": {
              "type": "string"
            }
          },
          "metadata": {},
          "execution_count": 197
        }
      ]
    },
    {
      "cell_type": "code",
      "source": [
        "books_name=book_pivot.index"
      ],
      "metadata": {
        "id": "zjAOghoIi86r"
      },
      "execution_count": 198,
      "outputs": []
    },
    {
      "cell_type": "code",
      "source": [
        "import pickle\n",
        "pickle.dump(model,open('artifacts/model.pkl','wb'))\n",
        "pickle.dump(books_name,open('artifacts/mbook_name.pkl','wb'))\n",
        "pickle.dump(final_rating,open('artifacts/final_rating.pkl','wb'))\n",
        "pickle.dump(book_pivot,open('artifacts/book_pivot.pkl','wb'))\n"
      ],
      "metadata": {
        "id": "RQQLoFjIjAlo"
      },
      "execution_count": 199,
      "outputs": []
    },
    {
      "cell_type": "code",
      "source": [
        "def recommend_me_the_book(book_name):\n",
        "  try:\n",
        "    book_id=np.where(book_pivot.index ==book_name)[0][0]\n",
        "    distance,suggestion=model.kneighbors(book_pivot.iloc[book_id,:].values.reshape(1,-1),n_neighbors=6)\n",
        "  \n",
        "    for i in range(len(suggestion)):\n",
        "      books=book_pivot.index[suggestion[i]]\n",
        "      for j in books:\n",
        "        print(j)\n",
        "  except IndexError:\n",
        "    print(\"The book doesnt exists in the database\")\n",
        "  \n"
      ],
      "metadata": {
        "id": "-ybLmG5e3jtq"
      },
      "execution_count": 215,
      "outputs": []
    },
    {
      "cell_type": "code",
      "source": [
        "book_name=''\n",
        "recommend_me_the_book(book_name)"
      ],
      "metadata": {
        "colab": {
          "base_uri": "https://localhost:8080/"
        },
        "id": "dpAM6oML5mgO",
        "outputId": "29e570f5-d820-4179-d24d-d7fb3dc0f13e"
      },
      "execution_count": 217,
      "outputs": [
        {
          "output_type": "stream",
          "name": "stdout",
          "text": [
            "The book doesnt exists in the database\n"
          ]
        }
      ]
    },
    {
      "cell_type": "code",
      "source": [],
      "metadata": {
        "id": "Jep2698e5xr-"
      },
      "execution_count": null,
      "outputs": []
    }
  ]
}