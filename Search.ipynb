{
  "nbformat": 4,
  "nbformat_minor": 0,
  "metadata": {
    "colab": {
      "provenance": [],
      "toc_visible": true,
      "authorship_tag": "ABX9TyOkoINTaw38PH1lTlppKO4K",
      "include_colab_link": true
    },
    "kernelspec": {
      "name": "python3",
      "display_name": "Python 3"
    },
    "language_info": {
      "name": "python"
    }
  },
  "cells": [
    {
      "cell_type": "markdown",
      "metadata": {
        "id": "view-in-github",
        "colab_type": "text"
      },
      "source": [
        "<a href=\"https://colab.research.google.com/github/Tanmay-Somani/Wh020_Linktree/blob/main/Search.ipynb\" target=\"_parent\"><img src=\"https://colab.research.google.com/assets/colab-badge.svg\" alt=\"Open In Colab\"/></a>"
      ]
    },
    {
      "cell_type": "code",
      "execution_count": 119,
      "metadata": {
        "id": "qxi_UMABE_rL"
      },
      "outputs": [],
      "source": []
    },
    {
      "cell_type": "markdown",
      "source": [
        "#book recommender system using collaborative clustering\n"
      ],
      "metadata": {
        "id": "BT8EtTnLFdxp"
      }
    },
    {
      "cell_type": "code",
      "source": [
        "import pandas as pd\n",
        "import numpy as np\n",
        "import matplotlib.pyplot as plt\n",
        "import seaborn as sns"
      ],
      "metadata": {
        "id": "N1QumxF2Fkol"
      },
      "execution_count": 120,
      "outputs": []
    },
    {
      "cell_type": "code",
      "source": [
        "books=pd.read_csv(\"sample_data/BX-Books.csv\",sep=';',error_bad_lines=False ,encoding='latin-1') "
      ],
      "metadata": {
        "colab": {
          "base_uri": "https://localhost:8080/"
        },
        "id": "01_CleRxFupl",
        "outputId": "db0d1117-980c-427a-deb8-680c48dfa76f"
      },
      "execution_count": 121,
      "outputs": [
        {
          "output_type": "stream",
          "name": "stderr",
          "text": [
            "<ipython-input-121-b3d0ab71e29e>:1: FutureWarning: The error_bad_lines argument has been deprecated and will be removed in a future version. Use on_bad_lines in the future.\n",
            "\n",
            "\n",
            "  books=pd.read_csv(\"sample_data/BX-Books.csv\",sep=';',error_bad_lines=False ,encoding='latin-1')\n",
            "b'Skipping line 6452: expected 8 fields, saw 9\\nSkipping line 43667: expected 8 fields, saw 10\\nSkipping line 51751: expected 8 fields, saw 9\\n'\n",
            "b'Skipping line 92038: expected 8 fields, saw 9\\nSkipping line 104319: expected 8 fields, saw 9\\nSkipping line 121768: expected 8 fields, saw 9\\n'\n",
            "b'Skipping line 144058: expected 8 fields, saw 9\\nSkipping line 150789: expected 8 fields, saw 9\\nSkipping line 157128: expected 8 fields, saw 9\\nSkipping line 180189: expected 8 fields, saw 9\\nSkipping line 185738: expected 8 fields, saw 9\\n'\n",
            "b'Skipping line 209388: expected 8 fields, saw 9\\nSkipping line 220626: expected 8 fields, saw 9\\nSkipping line 227933: expected 8 fields, saw 11\\nSkipping line 228957: expected 8 fields, saw 10\\nSkipping line 245933: expected 8 fields, saw 9\\nSkipping line 251296: expected 8 fields, saw 9\\nSkipping line 259941: expected 8 fields, saw 9\\nSkipping line 261529: expected 8 fields, saw 9\\n'\n",
            "<ipython-input-121-b3d0ab71e29e>:1: DtypeWarning: Columns (3) have mixed types. Specify dtype option on import or set low_memory=False.\n",
            "  books=pd.read_csv(\"sample_data/BX-Books.csv\",sep=';',error_bad_lines=False ,encoding='latin-1')\n"
          ]
        }
      ]
    },
    {
      "cell_type": "code",
      "source": [
        "books=books[['ISBN','Book-Title', 'Book-Author', 'Year-Of-Publication', 'Publisher']]"
      ],
      "metadata": {
        "id": "u9Xdm5HPGE_J"
      },
      "execution_count": 122,
      "outputs": []
    },
    {
      "cell_type": "code",
      "source": [
        "books.rename(columns={\n",
        "    \"Book-Title\":\"title\",\n",
        "    \"Books-Author\":\"author\",\n",
        "    \"Year-Of-Publication\":\"year\",\n",
        "    \"Image-URL-L\":\"img_url\"\n",
        "},inplace=True)"
      ],
      "metadata": {
        "id": "Y8YxkFV8GexM"
      },
      "execution_count": 123,
      "outputs": []
    },
    {
      "cell_type": "code",
      "source": [
        "users=pd.read_csv(\"sample_data/BX-Users.csv\",sep=';',error_bad_lines=False ,encoding='latin-1') "
      ],
      "metadata": {
        "colab": {
          "base_uri": "https://localhost:8080/"
        },
        "id": "yyV9WpJ1Grlx",
        "outputId": "0bd1dc7f-ef18-4842-a120-ba90ce97b661"
      },
      "execution_count": 124,
      "outputs": [
        {
          "output_type": "stream",
          "name": "stderr",
          "text": [
            "<ipython-input-124-9ca8b7c8fe35>:1: FutureWarning: The error_bad_lines argument has been deprecated and will be removed in a future version. Use on_bad_lines in the future.\n",
            "\n",
            "\n",
            "  users=pd.read_csv(\"sample_data/BX-Users.csv\",sep=';',error_bad_lines=False ,encoding='latin-1')\n"
          ]
        }
      ]
    },
    {
      "cell_type": "code",
      "source": [
        "ratings=pd.read_csv(\"sample_data/BX-Book-Ratings.csv\",sep=';',error_bad_lines=False ,encoding='latin-1') "
      ],
      "metadata": {
        "colab": {
          "base_uri": "https://localhost:8080/"
        },
        "id": "Lkcfz_3lIHvW",
        "outputId": "6b4424aa-33cf-4291-9a99-46e5f5f55d1f"
      },
      "execution_count": 125,
      "outputs": [
        {
          "output_type": "stream",
          "name": "stderr",
          "text": [
            "<ipython-input-125-252b9ded5838>:1: FutureWarning: The error_bad_lines argument has been deprecated and will be removed in a future version. Use on_bad_lines in the future.\n",
            "\n",
            "\n",
            "  ratings=pd.read_csv(\"sample_data/BX-Book-Ratings.csv\",sep=';',error_bad_lines=False ,encoding='latin-1')\n"
          ]
        }
      ]
    },
    {
      "cell_type": "markdown",
      "source": [
        "In collaborative system it is important for a user to give you ratings."
      ],
      "metadata": {
        "id": "mY4AZRUeIe-m"
      }
    },
    {
      "cell_type": "code",
      "source": [
        "ratings.rename(columns={\"User-ID\":\"user_id\",\"Book-Rating\":\"rating\"},inplace=True)"
      ],
      "metadata": {
        "id": "ylk1Z7Q-IYnW"
      },
      "execution_count": 126,
      "outputs": []
    },
    {
      "cell_type": "code",
      "source": [
        "x=ratings[\"user_id\"].value_counts()>200"
      ],
      "metadata": {
        "id": "C9RBSjePJMqA"
      },
      "execution_count": 127,
      "outputs": []
    },
    {
      "cell_type": "code",
      "source": [
        "y=x[x].index"
      ],
      "metadata": {
        "id": "raO8vnHxJ6Vl"
      },
      "execution_count": 128,
      "outputs": []
    },
    {
      "cell_type": "code",
      "source": [
        "ratings=ratings[ratings['user_id'].isin(y)]"
      ],
      "metadata": {
        "id": "4kBHydvVPeVO"
      },
      "execution_count": 129,
      "outputs": []
    },
    {
      "cell_type": "code",
      "source": [
        "ratings_with_books=ratings.merge(books,on=\"ISBN\")"
      ],
      "metadata": {
        "id": "g60PajkrKIqd"
      },
      "execution_count": 130,
      "outputs": []
    },
    {
      "cell_type": "code",
      "source": [
        "num_rating=ratings_with_books.groupby('title')['rating'].count().reset_index()"
      ],
      "metadata": {
        "id": "feFf4EUrKZh_"
      },
      "execution_count": 131,
      "outputs": []
    },
    {
      "cell_type": "code",
      "source": [
        "num_rating.rename(columns={\"rating\":\"num_of_rating\"},inplace=True)"
      ],
      "metadata": {
        "id": "RNmWN2aeK1Zw"
      },
      "execution_count": 132,
      "outputs": []
    },
    {
      "cell_type": "code",
      "source": [
        "final_rating=ratings_with_books.merge(num_rating,on ='title')"
      ],
      "metadata": {
        "id": "aRVnTo7JLmQV"
      },
      "execution_count": 133,
      "outputs": []
    },
    {
      "cell_type": "code",
      "source": [
        "final_rating=final_rating[final_rating[\"num_of_rating\"]>=50]"
      ],
      "metadata": {
        "id": "VLzFwK1DL1J_"
      },
      "execution_count": 134,
      "outputs": []
    },
    {
      "cell_type": "code",
      "source": [
        "final_rating.sample(10)"
      ],
      "metadata": {
        "colab": {
          "base_uri": "https://localhost:8080/",
          "height": 363
        },
        "id": "GfvCpR0wR9TM",
        "outputId": "e2a4d30a-a88b-4ac1-c80a-ac65e745436c"
      },
      "execution_count": 135,
      "outputs": [
        {
          "output_type": "execute_result",
          "data": {
            "text/plain": [
              "        user_id        ISBN  rating  \\\n",
              "31305     30487  044023722X       8   \n",
              "30608     43246  0385265700       0   \n",
              "57003     43246  0671021001       0   \n",
              "101105   101876  0316969443       0   \n",
              "114131   130474  0440200563       0   \n",
              "99082      7346  0312966970       8   \n",
              "25169     53174  0345313860       9   \n",
              "126739   153718  0312983824       0   \n",
              "71723     88693  0375705856       0   \n",
              "25683    121726  0436140969       0   \n",
              "\n",
              "                                                   title      Book-Author  \\\n",
              "31305                                    A Painted House     John Grisham   \n",
              "30608   The Book of Ruth (Oprah's Book Club (Paperback))    Jane Hamilton   \n",
              "57003              She's Come Undone (Oprah's Book Club)       Wally Lamb   \n",
              "101105                      Suzanne's Diary for Nicholas  James Patterson   \n",
              "114131                                       Fine Things   Danielle Steel   \n",
              "99082             Four To Score (A Stephanie Plum Novel)  Janet Evanovich   \n",
              "25169   The Vampire Lestat (Vampire Chronicles, Book II)        ANNE RICE   \n",
              "126739                                         Faking It  Jennifer Crusie   \n",
              "71723                 Plainsong (Vintage Contemporaries)       KENT HARUF   \n",
              "25683                                Foucault's Pendulum      Umberto Eco   \n",
              "\n",
              "        year                Publisher  num_of_rating  \n",
              "31305   2001  Dell Publishing Company            228  \n",
              "30608   1990                   Anchor            116  \n",
              "57003   1998                   Pocket            128  \n",
              "101105  2001            Little, Brown            143  \n",
              "114131  1988                     Dell             57  \n",
              "99082   1999  St. Martin's Paperbacks             98  \n",
              "25169   1986         Ballantine Books            123  \n",
              "126739  2003  St. Martin's Paperbacks             97  \n",
              "71723   2000                  Vintage             62  \n",
              "25683   1989     Secker &amp; Warburg             60  "
            ],
            "text/html": [
              "\n",
              "  <div id=\"df-a848a555-fe14-44de-990a-40b2a9c1ac3d\">\n",
              "    <div class=\"colab-df-container\">\n",
              "      <div>\n",
              "<style scoped>\n",
              "    .dataframe tbody tr th:only-of-type {\n",
              "        vertical-align: middle;\n",
              "    }\n",
              "\n",
              "    .dataframe tbody tr th {\n",
              "        vertical-align: top;\n",
              "    }\n",
              "\n",
              "    .dataframe thead th {\n",
              "        text-align: right;\n",
              "    }\n",
              "</style>\n",
              "<table border=\"1\" class=\"dataframe\">\n",
              "  <thead>\n",
              "    <tr style=\"text-align: right;\">\n",
              "      <th></th>\n",
              "      <th>user_id</th>\n",
              "      <th>ISBN</th>\n",
              "      <th>rating</th>\n",
              "      <th>title</th>\n",
              "      <th>Book-Author</th>\n",
              "      <th>year</th>\n",
              "      <th>Publisher</th>\n",
              "      <th>num_of_rating</th>\n",
              "    </tr>\n",
              "  </thead>\n",
              "  <tbody>\n",
              "    <tr>\n",
              "      <th>31305</th>\n",
              "      <td>30487</td>\n",
              "      <td>044023722X</td>\n",
              "      <td>8</td>\n",
              "      <td>A Painted House</td>\n",
              "      <td>John Grisham</td>\n",
              "      <td>2001</td>\n",
              "      <td>Dell Publishing Company</td>\n",
              "      <td>228</td>\n",
              "    </tr>\n",
              "    <tr>\n",
              "      <th>30608</th>\n",
              "      <td>43246</td>\n",
              "      <td>0385265700</td>\n",
              "      <td>0</td>\n",
              "      <td>The Book of Ruth (Oprah's Book Club (Paperback))</td>\n",
              "      <td>Jane Hamilton</td>\n",
              "      <td>1990</td>\n",
              "      <td>Anchor</td>\n",
              "      <td>116</td>\n",
              "    </tr>\n",
              "    <tr>\n",
              "      <th>57003</th>\n",
              "      <td>43246</td>\n",
              "      <td>0671021001</td>\n",
              "      <td>0</td>\n",
              "      <td>She's Come Undone (Oprah's Book Club)</td>\n",
              "      <td>Wally Lamb</td>\n",
              "      <td>1998</td>\n",
              "      <td>Pocket</td>\n",
              "      <td>128</td>\n",
              "    </tr>\n",
              "    <tr>\n",
              "      <th>101105</th>\n",
              "      <td>101876</td>\n",
              "      <td>0316969443</td>\n",
              "      <td>0</td>\n",
              "      <td>Suzanne's Diary for Nicholas</td>\n",
              "      <td>James Patterson</td>\n",
              "      <td>2001</td>\n",
              "      <td>Little, Brown</td>\n",
              "      <td>143</td>\n",
              "    </tr>\n",
              "    <tr>\n",
              "      <th>114131</th>\n",
              "      <td>130474</td>\n",
              "      <td>0440200563</td>\n",
              "      <td>0</td>\n",
              "      <td>Fine Things</td>\n",
              "      <td>Danielle Steel</td>\n",
              "      <td>1988</td>\n",
              "      <td>Dell</td>\n",
              "      <td>57</td>\n",
              "    </tr>\n",
              "    <tr>\n",
              "      <th>99082</th>\n",
              "      <td>7346</td>\n",
              "      <td>0312966970</td>\n",
              "      <td>8</td>\n",
              "      <td>Four To Score (A Stephanie Plum Novel)</td>\n",
              "      <td>Janet Evanovich</td>\n",
              "      <td>1999</td>\n",
              "      <td>St. Martin's Paperbacks</td>\n",
              "      <td>98</td>\n",
              "    </tr>\n",
              "    <tr>\n",
              "      <th>25169</th>\n",
              "      <td>53174</td>\n",
              "      <td>0345313860</td>\n",
              "      <td>9</td>\n",
              "      <td>The Vampire Lestat (Vampire Chronicles, Book II)</td>\n",
              "      <td>ANNE RICE</td>\n",
              "      <td>1986</td>\n",
              "      <td>Ballantine Books</td>\n",
              "      <td>123</td>\n",
              "    </tr>\n",
              "    <tr>\n",
              "      <th>126739</th>\n",
              "      <td>153718</td>\n",
              "      <td>0312983824</td>\n",
              "      <td>0</td>\n",
              "      <td>Faking It</td>\n",
              "      <td>Jennifer Crusie</td>\n",
              "      <td>2003</td>\n",
              "      <td>St. Martin's Paperbacks</td>\n",
              "      <td>97</td>\n",
              "    </tr>\n",
              "    <tr>\n",
              "      <th>71723</th>\n",
              "      <td>88693</td>\n",
              "      <td>0375705856</td>\n",
              "      <td>0</td>\n",
              "      <td>Plainsong (Vintage Contemporaries)</td>\n",
              "      <td>KENT HARUF</td>\n",
              "      <td>2000</td>\n",
              "      <td>Vintage</td>\n",
              "      <td>62</td>\n",
              "    </tr>\n",
              "    <tr>\n",
              "      <th>25683</th>\n",
              "      <td>121726</td>\n",
              "      <td>0436140969</td>\n",
              "      <td>0</td>\n",
              "      <td>Foucault's Pendulum</td>\n",
              "      <td>Umberto Eco</td>\n",
              "      <td>1989</td>\n",
              "      <td>Secker &amp;amp; Warburg</td>\n",
              "      <td>60</td>\n",
              "    </tr>\n",
              "  </tbody>\n",
              "</table>\n",
              "</div>\n",
              "      <button class=\"colab-df-convert\" onclick=\"convertToInteractive('df-a848a555-fe14-44de-990a-40b2a9c1ac3d')\"\n",
              "              title=\"Convert this dataframe to an interactive table.\"\n",
              "              style=\"display:none;\">\n",
              "        \n",
              "  <svg xmlns=\"http://www.w3.org/2000/svg\" height=\"24px\"viewBox=\"0 0 24 24\"\n",
              "       width=\"24px\">\n",
              "    <path d=\"M0 0h24v24H0V0z\" fill=\"none\"/>\n",
              "    <path d=\"M18.56 5.44l.94 2.06.94-2.06 2.06-.94-2.06-.94-.94-2.06-.94 2.06-2.06.94zm-11 1L8.5 8.5l.94-2.06 2.06-.94-2.06-.94L8.5 2.5l-.94 2.06-2.06.94zm10 10l.94 2.06.94-2.06 2.06-.94-2.06-.94-.94-2.06-.94 2.06-2.06.94z\"/><path d=\"M17.41 7.96l-1.37-1.37c-.4-.4-.92-.59-1.43-.59-.52 0-1.04.2-1.43.59L10.3 9.45l-7.72 7.72c-.78.78-.78 2.05 0 2.83L4 21.41c.39.39.9.59 1.41.59.51 0 1.02-.2 1.41-.59l7.78-7.78 2.81-2.81c.8-.78.8-2.07 0-2.86zM5.41 20L4 18.59l7.72-7.72 1.47 1.35L5.41 20z\"/>\n",
              "  </svg>\n",
              "      </button>\n",
              "      \n",
              "  <style>\n",
              "    .colab-df-container {\n",
              "      display:flex;\n",
              "      flex-wrap:wrap;\n",
              "      gap: 12px;\n",
              "    }\n",
              "\n",
              "    .colab-df-convert {\n",
              "      background-color: #E8F0FE;\n",
              "      border: none;\n",
              "      border-radius: 50%;\n",
              "      cursor: pointer;\n",
              "      display: none;\n",
              "      fill: #1967D2;\n",
              "      height: 32px;\n",
              "      padding: 0 0 0 0;\n",
              "      width: 32px;\n",
              "    }\n",
              "\n",
              "    .colab-df-convert:hover {\n",
              "      background-color: #E2EBFA;\n",
              "      box-shadow: 0px 1px 2px rgba(60, 64, 67, 0.3), 0px 1px 3px 1px rgba(60, 64, 67, 0.15);\n",
              "      fill: #174EA6;\n",
              "    }\n",
              "\n",
              "    [theme=dark] .colab-df-convert {\n",
              "      background-color: #3B4455;\n",
              "      fill: #D2E3FC;\n",
              "    }\n",
              "\n",
              "    [theme=dark] .colab-df-convert:hover {\n",
              "      background-color: #434B5C;\n",
              "      box-shadow: 0px 1px 3px 1px rgba(0, 0, 0, 0.15);\n",
              "      filter: drop-shadow(0px 1px 2px rgba(0, 0, 0, 0.3));\n",
              "      fill: #FFFFFF;\n",
              "    }\n",
              "  </style>\n",
              "\n",
              "      <script>\n",
              "        const buttonEl =\n",
              "          document.querySelector('#df-a848a555-fe14-44de-990a-40b2a9c1ac3d button.colab-df-convert');\n",
              "        buttonEl.style.display =\n",
              "          google.colab.kernel.accessAllowed ? 'block' : 'none';\n",
              "\n",
              "        async function convertToInteractive(key) {\n",
              "          const element = document.querySelector('#df-a848a555-fe14-44de-990a-40b2a9c1ac3d');\n",
              "          const dataTable =\n",
              "            await google.colab.kernel.invokeFunction('convertToInteractive',\n",
              "                                                     [key], {});\n",
              "          if (!dataTable) return;\n",
              "\n",
              "          const docLinkHtml = 'Like what you see? Visit the ' +\n",
              "            '<a target=\"_blank\" href=https://colab.research.google.com/notebooks/data_table.ipynb>data table notebook</a>'\n",
              "            + ' to learn more about interactive tables.';\n",
              "          element.innerHTML = '';\n",
              "          dataTable['output_type'] = 'display_data';\n",
              "          await google.colab.output.renderOutput(dataTable, element);\n",
              "          const docLink = document.createElement('div');\n",
              "          docLink.innerHTML = docLinkHtml;\n",
              "          element.appendChild(docLink);\n",
              "        }\n",
              "      </script>\n",
              "    </div>\n",
              "  </div>\n",
              "  "
            ]
          },
          "metadata": {},
          "execution_count": 135
        }
      ]
    },
    {
      "cell_type": "code",
      "source": [
        "final_rating.drop_duplicates(['user_id','title'],inplace=True)"
      ],
      "metadata": {
        "id": "qOl9H8vnSIWa"
      },
      "execution_count": 136,
      "outputs": []
    },
    {
      "cell_type": "markdown",
      "source": [],
      "metadata": {
        "id": "xsbrj4dYUb3m"
      }
    },
    {
      "cell_type": "code",
      "source": [
        "book_pivot=final_rating.pivot_table(columns='user_id',index='title',values='rating')"
      ],
      "metadata": {
        "id": "zqphtonnTGhf"
      },
      "execution_count": 139,
      "outputs": []
    },
    {
      "cell_type": "code",
      "source": [
        "book_pivot.fillna(0,inplace=True)"
      ],
      "metadata": {
        "id": "fsD26vyiUsK5"
      },
      "execution_count": 142,
      "outputs": []
    },
    {
      "cell_type": "code",
      "source": [
        "from scipy.sparse import csr_matrix"
      ],
      "metadata": {
        "id": "vA5wmmyEVMTw"
      },
      "execution_count": 143,
      "outputs": []
    },
    {
      "cell_type": "code",
      "source": [
        "book_sparse=csr_matrix(book_pivot)"
      ],
      "metadata": {
        "id": "Dj6V3d6mWBrk"
      },
      "execution_count": 144,
      "outputs": []
    },
    {
      "cell_type": "code",
      "source": [
        "from sklearn.neighbors import NearestNeighbors"
      ],
      "metadata": {
        "id": "AikcoTesWJOJ"
      },
      "execution_count": 146,
      "outputs": []
    },
    {
      "cell_type": "code",
      "source": [
        "model="
      ],
      "metadata": {
        "id": "qXrqXSa-Wuyc"
      },
      "execution_count": null,
      "outputs": []
    }
  ]
}